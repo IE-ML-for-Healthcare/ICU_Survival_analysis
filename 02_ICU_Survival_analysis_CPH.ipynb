{
 "cells": [
  {
   "cell_type": "markdown",
   "id": "031d0e8a",
   "metadata": {},
   "source": [
    "# Individual risk modeling with Cox proportional hazards and Random Survival Forests\n",
    "\n",
    "What you will learn  \n",
    "- Fit a Cox model and interpret hazard ratios with confidence intervals  \n",
    "- Check proportional hazards using Schoenfeld residuals  \n",
    "- Fit a Random Survival Forest (RSF) for non-linear effects and interactions  \n",
    "- Evaluate with concordance index, time-dependent AUC at 7, 30, 90 days, and integrated Brier score  \n",
    "- Calibrate 30-day survival probabilities and stratify patients into risk quintiles\n",
    "\n",
    "Clinical lens  \n",
    "- Cox is great for explanation and policy rules  \n",
    "- RSF is great for flexible prediction when relationships are non-linear\n"
   ]
  },
  {
   "cell_type": "code",
   "execution_count": null,
   "id": "21a46565",
   "metadata": {},
   "outputs": [],
   "source": [
    "# Why: import once and confirm environment\n",
    "import warnings\n",
    "warnings.filterwarnings(\"ignore\")\n",
    "\n",
    "import numpy as np\n",
    "import pandas as pd\n",
    "import matplotlib.pyplot as plt\n",
    "import seaborn as sns\n",
    "\n",
    "import sklearn\n",
    "from sklearn.model_selection import train_test_split\n",
    "from sklearn.compose import ColumnTransformer\n",
    "from sklearn.pipeline import Pipeline\n",
    "from sklearn.preprocessing import OneHotEncoder, StandardScaler\n",
    "from sklearn.impute import SimpleImputer\n",
    "from sklearn.inspection import permutation_importance\n",
    "\n",
    "import lifelines\n",
    "from lifelines import CoxPHFitter\n",
    "from lifelines.statistics import proportional_hazard_test\n",
    "from lifelines.calibration import survival_probability_calibration\n",
    "\n",
    "from sksurv.util import Surv\n",
    "from sksurv.linear_model import CoxPHSurvivalAnalysis\n",
    "from sksurv.ensemble import RandomSurvivalForest\n",
    "from sksurv.metrics import (\n",
    "    concordance_index_censored,\n",
    "    cumulative_dynamic_auc,\n",
    "    integrated_brier_score,\n",
    ")\n",
    "\n",
    "import platform\n",
    "print(\"Python\", platform.python_version())\n",
    "print(\"pandas\", pd.__version__, \"numpy\", np.__version__, \"scikit-learn\", sklearn.__version__)\n",
    "print(\"lifelines\", lifelines.__version__)\n"
   ]
  },
  {
   "cell_type": "markdown",
   "id": "d8e3259d",
   "metadata": {},
   "source": [
    "## Validate labels and define analysis targets\n",
    "\n",
    "We align the time scale to in-hospital death and verify label consistency\n",
    "\n",
    "- Duration = `Length_of_stay` in days  \n",
    "- Event = inferred from (`Survival`, `Length_of_stay`) using the dataset rules and cross-checked with `In-hospital_death`  \n",
    "- If provided labels and inferred labels disagree more than a small tolerance, we use the inferred labels\n",
    "\n",
    "This teaches students to check assumptions before building models and to connect modeling targets to their clinical definitions :contentReference[oaicite:3]{index=3}\n"
   ]
  },
  {
   "cell_type": "markdown",
   "id": "4e85cc8a",
   "metadata": {},
   "source": []
  },
  {
   "cell_type": "code",
   "execution_count": null,
   "id": "8d9da282",
   "metadata": {},
   "outputs": [],
   "source": [
    "df = pd.read_csv(\"PhysionetChallenge2012-set-a.csv.gz\", compression=\"gzip\").copy()\n",
    "\n",
    "# Clean sentinels for basic demographics if present\n",
    "for col in [\"Height\",\"Weight\"]:\n",
    "    if col in df.columns:\n",
    "        df.loc[df[col] < 0, col] = np.nan\n",
    "\n",
    "# Types\n",
    "df[\"Length_of_stay\"] = pd.to_numeric(df[\"Length_of_stay\"], errors=\"coerce\")\n",
    "df[\"Survival\"] = pd.to_numeric(df[\"Survival\"], errors=\"coerce\")\n",
    "df[\"In-hospital_death\"] = pd.to_numeric(df[\"In-hospital_death\"], errors=\"coerce\").astype(\"Int64\")\n",
    "\n",
    "# Duration\n",
    "df[\"duration\"] = df[\"Length_of_stay\"].clip(lower=0)\n",
    "\n",
    "# Infer event per dataset logic\n",
    "USE_STRICT = True\n",
    "strict_event = (df[\"Survival\"].ge(2) & df[\"Survival\"].le(df[\"Length_of_stay\"])).astype(\"Int64\")\n",
    "general_event = (df[\"Survival\"].ge(0) & df[\"Survival\"].le(df[\"Length_of_stay\"])).astype(\"Int64\")\n",
    "df[\"event_inferred\"] = strict_event if USE_STRICT else general_event\n",
    "df.loc[df[\"Survival\"].isna() | (df[\"Survival\"] == -1), \"event_inferred\"] = 0\n",
    "\n",
    "# Compare to provided label if available\n",
    "use_provided = \"In-hospital_death\" in df.columns\n",
    "if use_provided:\n",
    "    comp = pd.crosstab(df[\"In-hospital_death\"].astype(\"Int64\"), df[\"event_inferred\"], rownames=[\"provided\"], colnames=[\"inferred\"])\n",
    "    mismatch = (df[\"In-hospital_death\"].astype(\"Int64\") != df[\"event_inferred\"]).sum()\n",
    "    total = len(df)\n",
    "    print(\"Provided vs inferred event label\")\n",
    "    display(comp)\n",
    "    print(f\"Mismatches: {mismatch} of {total} rows ({mismatch/total:.2%}) using {'strict' if USE_STRICT else 'general'} rule\")\n",
    "\n",
    "    # Switch to inferred if mismatches exceed tolerance\n",
    "    if mismatch/total > 0.01:\n",
    "        print(\"Mismatch exceeds tolerance, using inferred event for modeling\")\n",
    "        use_provided = False\n",
    "\n",
    "# Final event\n",
    "df[\"event\"] = df[\"In-hospital_death\"].astype(int) if use_provided else df[\"event_inferred\"].fillna(0).astype(int)\n",
    "\n",
    "# Keep valid rows\n",
    "df = df.loc[df[\"duration\"].notna() & df[\"event\"].notna()].copy()\n",
    "df[\"duration\"] = df[\"duration\"].clip(lower=0)\n",
    "\n",
    "print(\"Event rate used for modeling =\", df[\"event\"].mean())\n"
   ]
  },
  {
   "cell_type": "markdown",
   "id": "ffe84001",
   "metadata": {},
   "source": []
  },
  {
   "cell_type": "markdown",
   "id": "2f374715",
   "metadata": {},
   "source": []
  }
 ],
 "metadata": {
  "kernelspec": {
   "display_name": "icu-survival",
   "language": "python",
   "name": "python3"
  },
  "language_info": {
   "codemirror_mode": {
    "name": "ipython",
    "version": 3
   },
   "file_extension": ".py",
   "mimetype": "text/x-python",
   "name": "python",
   "nbconvert_exporter": "python",
   "pygments_lexer": "ipython3",
   "version": "3.11.13"
  }
 },
 "nbformat": 4,
 "nbformat_minor": 5
}
