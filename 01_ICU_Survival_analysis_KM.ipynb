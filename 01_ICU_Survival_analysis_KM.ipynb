{
 "cells": [
  {
   "cell_type": "markdown",
   "id": "49da2588",
   "metadata": {},
   "source": [
    "# 1. Introduction\n",
    "# Survival analysis of ICU in-hospital mortality with Kaplan–Meier\n",
    "\n",
    "What you will learn  \n",
    "- What censoring means and why Kaplan–Meier (KM) handles it well  \n",
    "- How to read survival curves, cumulative hazard, at-risk tables, and restricted mean survival time (RMST)  \n",
    "- How to compare groups with log-rank tests and extract clinically useful numbers at 7, 30, and 90 days\n",
    "\n",
    "Data and outcome  \n",
    "- Time origin is ICU admission  \n",
    "- Duration = hospital days until discharge or in-hospital death  \n",
    "- Event = in-hospital death  \n",
    "- Censoring occurs at discharge alive\n",
    "\n",
    "Clinical lens  \n",
    "- KM describes prognosis over time for a population or subgroup  \n",
    "- RMST at a horizon t0 is an easy number to communicate to clinicians and families\n"
   ]
  },
  {
   "cell_type": "markdown",
   "id": "bdb761d2",
   "metadata": {},
   "source": [
    "# 2. Setup"
   ]
  },
  {
   "cell_type": "code",
   "execution_count": 24,
   "id": "dfcd1fe8",
   "metadata": {},
   "outputs": [
    {
     "name": "stdout",
     "output_type": "stream",
     "text": [
      "Python 3.11.13\n",
      "pandas 2.3.3 numpy 2.3.3\n",
      "lifelines 0.30.0 matplotlib 3.10.6\n"
     ]
    }
   ],
   "source": [
    "# Setup and versions\n",
    "import warnings\n",
    "warnings.filterwarnings(\"ignore\")\n",
    "\n",
    "import numpy as np\n",
    "import pandas as pd\n",
    "import matplotlib.pyplot as plt\n",
    "import seaborn as sns\n",
    "from IPython.display import display, Markdown\n",
    "\n",
    "\n",
    "from lifelines import KaplanMeierFitter, NelsonAalenFitter\n",
    "from lifelines.statistics import logrank_test, multivariate_logrank_test\n",
    "from lifelines.plotting import add_at_risk_counts\n",
    "from lifelines.utils import restricted_mean_survival_time\n",
    "\n",
    "import platform, sys\n",
    "print(f\"Python {platform.python_version()}\")\n",
    "print(\"pandas\", pd.__version__, \"numpy\", np.__version__)\n",
    "import lifelines, matplotlib\n",
    "print(\"lifelines\", lifelines.__version__, \"matplotlib\", matplotlib.__version__)\n"
   ]
  },
  {
   "cell_type": "markdown",
   "id": "284384e8",
   "metadata": {},
   "source": [
    "# 3. Load data and define survival variables\n",
    "\n",
    "## Data set characteristics — PhysioNet/CinC 2012, Set A (aggregated outcomes file)\n",
    "\n",
    "Number of instances: 4 000 ICU stays in training set A \n",
    "\n",
    "Number of attributes: 5 outcome-related descriptors plus a unique record identifier \n",
    "\n",
    "\n",
    "Attribute information\n",
    "- RecordID: unique identifier for the ICU stay\n",
    "- SAPS-I: Simplified Acute Physiology Score I, computed from early ICU measurements, higher indicates greater acuity, unitless score \n",
    "\n",
    "- SOFA: Sequential Organ Failure Assessment score, higher indicates greater organ dysfunction, unitless score \n",
    "\n",
    "- Length_of_stay: days from ICU admission to hospital discharge or in-hospital death, measured in days \n",
    "\n",
    "- Survival: days from ICU admission to death, observed up to 2 years after admission, measured in days; not defined if death did not occur within follow-up \n",
    "\n",
    "- In-hospital_death: binary outcome indicating whether the patient died during the index hospitalization (1 = died in hospital, 0 = survived to discharge) \n",
    "\n",
    "\n",
    "Analysis-ready fields you will derive in this notebook\n",
    "- duration (T): observation time used for survival analysis; for in-hospital analyses we set duration = Length_of_stay in days\n",
    "- event (E): event indicator for in-hospital mortality; we set event = In-hospital_death (1 = event occurred, 0 = censored at discharge)"
   ]
  },
  {
   "cell_type": "markdown",
   "id": "2007201f",
   "metadata": {},
   "source": [
    "### Interpret and validate outcome fields\n",
    "\n",
    "We use the [PhysioNet Challenge 2012 dataset](https://physionet.org/content/challenge-2012/1.0.0/) definitions for the aggregated outcomes file\n",
    "\n",
    "- **Length_of_stay**: days from ICU admission until hospital discharge or in-hospital death  \n",
    "- **Survival**: days from ICU admission until death; set to −1 if no death was recorded during follow-up  \n",
    "- **In-hospital_death**: 1 if the patient died in the hospital, 0 otherwise\n",
    "\n",
    "Consistency logic for this dataset  \n",
    "- If `Survival > Length_of_stay`, the patient survived to hospital discharge  \n",
    "- If `Survival = −1`, the patient survived to discharge or death was unobserved  \n",
    "- If `Survival` is between 2 and `Length_of_stay` inclusive, the patient died in-hospital"
   ]
  },
  {
   "cell_type": "code",
   "execution_count": 7,
   "id": "2a1e8199",
   "metadata": {},
   "outputs": [
    {
     "data": {
      "application/vnd.microsoft.datawrangler.viewer.v0+json": {
       "columns": [
        {
         "name": "index",
         "rawType": "int64",
         "type": "integer"
        },
        {
         "name": "recordid",
         "rawType": "int64",
         "type": "integer"
        },
        {
         "name": "SAPS-I",
         "rawType": "int64",
         "type": "integer"
        },
        {
         "name": "SOFA",
         "rawType": "int64",
         "type": "integer"
        },
        {
         "name": "Length_of_stay",
         "rawType": "int64",
         "type": "integer"
        },
        {
         "name": "Survival",
         "rawType": "int64",
         "type": "integer"
        },
        {
         "name": "In-hospital_death",
         "rawType": "int64",
         "type": "integer"
        },
        {
         "name": "Age",
         "rawType": "float64",
         "type": "float"
        },
        {
         "name": "Gender",
         "rawType": "float64",
         "type": "float"
        },
        {
         "name": "Height",
         "rawType": "float64",
         "type": "float"
        },
        {
         "name": "Weight",
         "rawType": "float64",
         "type": "float"
        },
        {
         "name": "CCU",
         "rawType": "int64",
         "type": "integer"
        },
        {
         "name": "CSRU",
         "rawType": "int64",
         "type": "integer"
        },
        {
         "name": "SICU",
         "rawType": "int64",
         "type": "integer"
        },
        {
         "name": "DiasABP_first",
         "rawType": "float64",
         "type": "float"
        },
        {
         "name": "GCS_first",
         "rawType": "float64",
         "type": "float"
        },
        {
         "name": "Glucose_first",
         "rawType": "float64",
         "type": "float"
        },
        {
         "name": "HR_first",
         "rawType": "float64",
         "type": "float"
        },
        {
         "name": "MAP_first",
         "rawType": "float64",
         "type": "float"
        },
        {
         "name": "NIDiasABP_first",
         "rawType": "float64",
         "type": "float"
        },
        {
         "name": "NIMAP_first",
         "rawType": "float64",
         "type": "float"
        },
        {
         "name": "NISysABP_first",
         "rawType": "float64",
         "type": "float"
        },
        {
         "name": "RespRate_first",
         "rawType": "float64",
         "type": "float"
        },
        {
         "name": "SaO2_first",
         "rawType": "float64",
         "type": "float"
        },
        {
         "name": "Temp_first",
         "rawType": "float64",
         "type": "float"
        },
        {
         "name": "DiasABP_last",
         "rawType": "float64",
         "type": "float"
        },
        {
         "name": "GCS_last",
         "rawType": "float64",
         "type": "float"
        },
        {
         "name": "Glucose_last",
         "rawType": "float64",
         "type": "float"
        },
        {
         "name": "HR_last",
         "rawType": "float64",
         "type": "float"
        },
        {
         "name": "MAP_last",
         "rawType": "float64",
         "type": "float"
        },
        {
         "name": "NIDiasABP_last",
         "rawType": "float64",
         "type": "float"
        },
        {
         "name": "NIMAP_last",
         "rawType": "float64",
         "type": "float"
        },
        {
         "name": "NISysABP_last",
         "rawType": "float64",
         "type": "float"
        },
        {
         "name": "RespRate_last",
         "rawType": "float64",
         "type": "float"
        },
        {
         "name": "SaO2_last",
         "rawType": "float64",
         "type": "float"
        },
        {
         "name": "Temp_last",
         "rawType": "float64",
         "type": "float"
        },
        {
         "name": "DiasABP_lowest",
         "rawType": "float64",
         "type": "float"
        },
        {
         "name": "GCS_lowest",
         "rawType": "float64",
         "type": "float"
        },
        {
         "name": "Glucose_lowest",
         "rawType": "float64",
         "type": "float"
        },
        {
         "name": "HR_lowest",
         "rawType": "float64",
         "type": "float"
        },
        {
         "name": "MAP_lowest",
         "rawType": "float64",
         "type": "float"
        },
        {
         "name": "NIDiasABP_lowest",
         "rawType": "float64",
         "type": "float"
        },
        {
         "name": "NIMAP_lowest",
         "rawType": "float64",
         "type": "float"
        },
        {
         "name": "NISysABP_lowest",
         "rawType": "float64",
         "type": "float"
        },
        {
         "name": "RespRate_lowest",
         "rawType": "float64",
         "type": "float"
        },
        {
         "name": "SaO2_lowest",
         "rawType": "float64",
         "type": "float"
        },
        {
         "name": "Temp_lowest",
         "rawType": "float64",
         "type": "float"
        },
        {
         "name": "DiasABP_highest",
         "rawType": "float64",
         "type": "float"
        },
        {
         "name": "GCS_highest",
         "rawType": "float64",
         "type": "float"
        },
        {
         "name": "Glucose_highest",
         "rawType": "float64",
         "type": "float"
        },
        {
         "name": "HR_highest",
         "rawType": "float64",
         "type": "float"
        },
        {
         "name": "MAP_highest",
         "rawType": "float64",
         "type": "float"
        },
        {
         "name": "NIDiasABP_highest",
         "rawType": "float64",
         "type": "float"
        },
        {
         "name": "NIMAP_highest",
         "rawType": "float64",
         "type": "float"
        },
        {
         "name": "NISysABP_highest",
         "rawType": "float64",
         "type": "float"
        },
        {
         "name": "RespRate_highest",
         "rawType": "float64",
         "type": "float"
        },
        {
         "name": "SaO2_highest",
         "rawType": "float64",
         "type": "float"
        },
        {
         "name": "Temp_highest",
         "rawType": "float64",
         "type": "float"
        },
        {
         "name": "DiasABP_median",
         "rawType": "float64",
         "type": "float"
        },
        {
         "name": "GCS_median",
         "rawType": "float64",
         "type": "float"
        },
        {
         "name": "Glucose_median",
         "rawType": "float64",
         "type": "float"
        },
        {
         "name": "HR_median",
         "rawType": "float64",
         "type": "float"
        },
        {
         "name": "MAP_median",
         "rawType": "float64",
         "type": "float"
        },
        {
         "name": "NIDiasABP_median",
         "rawType": "float64",
         "type": "float"
        },
        {
         "name": "NIMAP_median",
         "rawType": "float64",
         "type": "float"
        },
        {
         "name": "NISysABP_median",
         "rawType": "float64",
         "type": "float"
        },
        {
         "name": "RespRate_median",
         "rawType": "float64",
         "type": "float"
        },
        {
         "name": "SaO2_median",
         "rawType": "float64",
         "type": "float"
        },
        {
         "name": "Temp_median",
         "rawType": "float64",
         "type": "float"
        },
        {
         "name": "ALP_first",
         "rawType": "float64",
         "type": "float"
        },
        {
         "name": "ALT_first",
         "rawType": "float64",
         "type": "float"
        },
        {
         "name": "AST_first",
         "rawType": "float64",
         "type": "float"
        },
        {
         "name": "Albumin_first",
         "rawType": "float64",
         "type": "float"
        },
        {
         "name": "BUN_first",
         "rawType": "float64",
         "type": "float"
        },
        {
         "name": "Bilirubin_first",
         "rawType": "float64",
         "type": "float"
        },
        {
         "name": "Cholesterol_first",
         "rawType": "float64",
         "type": "float"
        },
        {
         "name": "Creatinine_first",
         "rawType": "float64",
         "type": "float"
        },
        {
         "name": "FiO2_first",
         "rawType": "float64",
         "type": "float"
        },
        {
         "name": "HCO3_first",
         "rawType": "float64",
         "type": "float"
        },
        {
         "name": "HCT_first",
         "rawType": "float64",
         "type": "float"
        },
        {
         "name": "K_first",
         "rawType": "float64",
         "type": "float"
        },
        {
         "name": "Lactate_first",
         "rawType": "float64",
         "type": "float"
        },
        {
         "name": "Mg_first",
         "rawType": "float64",
         "type": "float"
        },
        {
         "name": "Na_first",
         "rawType": "float64",
         "type": "float"
        },
        {
         "name": "PaCO2_first",
         "rawType": "float64",
         "type": "float"
        },
        {
         "name": "PaO2_first",
         "rawType": "float64",
         "type": "float"
        },
        {
         "name": "Platelets_first",
         "rawType": "float64",
         "type": "float"
        },
        {
         "name": "SysABP_first",
         "rawType": "float64",
         "type": "float"
        },
        {
         "name": "TroponinI_first",
         "rawType": "float64",
         "type": "float"
        },
        {
         "name": "TroponinT_first",
         "rawType": "float64",
         "type": "float"
        },
        {
         "name": "WBC_first",
         "rawType": "float64",
         "type": "float"
        },
        {
         "name": "Weight_first",
         "rawType": "float64",
         "type": "float"
        },
        {
         "name": "pH_first",
         "rawType": "float64",
         "type": "float"
        },
        {
         "name": "ALP_last",
         "rawType": "float64",
         "type": "float"
        },
        {
         "name": "ALT_last",
         "rawType": "float64",
         "type": "float"
        },
        {
         "name": "AST_last",
         "rawType": "float64",
         "type": "float"
        },
        {
         "name": "Albumin_last",
         "rawType": "float64",
         "type": "float"
        },
        {
         "name": "BUN_last",
         "rawType": "float64",
         "type": "float"
        },
        {
         "name": "Bilirubin_last",
         "rawType": "float64",
         "type": "float"
        },
        {
         "name": "Cholesterol_last",
         "rawType": "float64",
         "type": "float"
        },
        {
         "name": "Creatinine_last",
         "rawType": "float64",
         "type": "float"
        },
        {
         "name": "FiO2_last",
         "rawType": "float64",
         "type": "float"
        },
        {
         "name": "HCO3_last",
         "rawType": "float64",
         "type": "float"
        },
        {
         "name": "HCT_last",
         "rawType": "float64",
         "type": "float"
        },
        {
         "name": "K_last",
         "rawType": "float64",
         "type": "float"
        },
        {
         "name": "Lactate_last",
         "rawType": "float64",
         "type": "float"
        },
        {
         "name": "Mg_last",
         "rawType": "float64",
         "type": "float"
        },
        {
         "name": "Na_last",
         "rawType": "float64",
         "type": "float"
        },
        {
         "name": "PaCO2_last",
         "rawType": "float64",
         "type": "float"
        },
        {
         "name": "PaO2_last",
         "rawType": "float64",
         "type": "float"
        },
        {
         "name": "Platelets_last",
         "rawType": "float64",
         "type": "float"
        },
        {
         "name": "SysABP_last",
         "rawType": "float64",
         "type": "float"
        },
        {
         "name": "TroponinI_last",
         "rawType": "float64",
         "type": "float"
        },
        {
         "name": "TroponinT_last",
         "rawType": "float64",
         "type": "float"
        },
        {
         "name": "WBC_last",
         "rawType": "float64",
         "type": "float"
        },
        {
         "name": "Weight_last",
         "rawType": "float64",
         "type": "float"
        },
        {
         "name": "pH_last",
         "rawType": "float64",
         "type": "float"
        },
        {
         "name": "MechVentStartTime",
         "rawType": "float64",
         "type": "float"
        },
        {
         "name": "MechVentDuration",
         "rawType": "float64",
         "type": "float"
        },
        {
         "name": "MechVentLast8Hour",
         "rawType": "float64",
         "type": "float"
        },
        {
         "name": "UrineOutputSum",
         "rawType": "float64",
         "type": "float"
        },
        {
         "name": "duration",
         "rawType": "int64",
         "type": "integer"
        },
        {
         "name": "event",
         "rawType": "int64",
         "type": "integer"
        }
       ],
       "ref": "b22e2b96-f9ac-4509-81d6-4961abe10cff",
       "rows": [
        [
         "0",
         "132539",
         "6",
         "1",
         "5",
         "-1",
         "0",
         "54.0",
         "0.0",
         null,
         null,
         "0",
         "0",
         "1",
         null,
         "15.0",
         "205.0",
         "73.0",
         null,
         "65.0",
         "92.33",
         "147.0",
         "19.0",
         null,
         "35.1",
         null,
         "15.0",
         "115.0",
         "86.0",
         null,
         "55.0",
         "79.33",
         "128.0",
         "23.0",
         null,
         "37.8",
         null,
         "14.0",
         "115.0",
         "58.0",
         null,
         "39.0",
         "58.67",
         "96.0",
         "12.0",
         null,
         "35.1",
         null,
         "15.0",
         "205.0",
         "86.0",
         null,
         "67.0",
         "92.33",
         "157.0",
         "24.0",
         null,
         "38.2",
         null,
         "15.0",
         "160.0",
         "73.0",
         null,
         "49.0",
         "70.0",
         "110.0",
         "18.0",
         null,
         "37.7",
         null,
         null,
         null,
         null,
         "13.0",
         null,
         null,
         "0.8",
         null,
         "26.0",
         "33.7",
         "4.4",
         null,
         "1.5",
         "137.0",
         null,
         null,
         "221.0",
         null,
         null,
         null,
         "11.2",
         null,
         null,
         null,
         null,
         null,
         null,
         "8.0",
         null,
         null,
         "0.7",
         null,
         "28.0",
         "30.3",
         "4.0",
         null,
         "1.9",
         "136.0",
         null,
         null,
         "185.0",
         null,
         null,
         null,
         "9.4",
         null,
         null,
         null,
         null,
         null,
         null,
         "5",
         "0"
        ],
        [
         "1",
         "132540",
         "16",
         "8",
         "8",
         "-1",
         "0",
         "76.0",
         "1.0",
         "175.3",
         "76.0",
         "0",
         "1",
         "0",
         "67.0",
         "3.0",
         "105.0",
         "88.0",
         "79.0",
         "38.0",
         "49.33",
         "72.0",
         null,
         "99.0",
         "35.2",
         "51.0",
         "15.0",
         "146.0",
         "65.0",
         "69.0",
         "49.0",
         "68.33",
         "107.0",
         null,
         "97.0",
         "37.1",
         "32.0",
         "3.0",
         "105.0",
         "65.0",
         "43.0",
         "38.0",
         "49.33",
         "72.0",
         null,
         "93.0",
         "34.5",
         "81.0",
         "15.0",
         "146.0",
         "90.0",
         "100.0",
         "67.0",
         "88.33",
         "131.0",
         null,
         "99.0",
         "37.9",
         "59.0",
         "15.0",
         "125.5",
         "80.0",
         "79.0",
         "59.0",
         "78.16499999999999",
         "115.0",
         null,
         "97.0",
         "37.45",
         null,
         null,
         null,
         null,
         "16.0",
         null,
         null,
         "0.8",
         "1.0",
         "21.0",
         "24.7",
         "4.3",
         null,
         "3.1",
         "139.0",
         "34.0",
         "344.0",
         "164.0",
         "105.0",
         null,
         null,
         "7.4",
         "80.6",
         "7.45",
         null,
         null,
         null,
         null,
         "21.0",
         null,
         null,
         "1.3",
         "0.4",
         "24.0",
         "29.4",
         "3.5",
         null,
         "1.9",
         "135.0",
         "46.0",
         "140.0",
         "135.0",
         "103.0",
         null,
         null,
         "13.3",
         "81.6",
         "7.37",
         "71.0",
         "360.0",
         "0.0",
         "5.0",
         "8",
         "0"
        ],
        [
         "2",
         "132541",
         "21",
         "11",
         "19",
         "-1",
         "0",
         "44.0",
         "0.0",
         null,
         "56.7",
         "0",
         "0",
         "0",
         "81.0",
         "7.0",
         "141.0",
         "100.0",
         "107.0",
         "84.0",
         "100.3",
         "133.0",
         null,
         "95.0",
         "37.8",
         "70.0",
         "5.0",
         "143.0",
         "71.0",
         "92.0",
         "84.0",
         "103.0",
         "141.0",
         null,
         "95.0",
         "37.2",
         "52.0",
         "5.0",
         "119.0",
         "57.0",
         "72.0",
         "66.0",
         "83.33",
         "111.0",
         null,
         "95.0",
         "36.7",
         "81.0",
         "8.0",
         "143.0",
         "113.0",
         "107.0",
         "95.0",
         "110.0",
         "150.0",
         null,
         "95.0",
         "39.0",
         "67.0",
         "5.0",
         "141.0",
         "85.5",
         "90.0",
         "79.0",
         "97.67",
         "134.0",
         null,
         "95.0",
         "37.85",
         "127.0",
         "91.0",
         "235.0",
         "2.7",
         "8.0",
         "3.0",
         null,
         "0.4",
         "1.0",
         "24.0",
         "28.5",
         "3.3",
         "1.3",
         "1.9",
         "137.0",
         "37.0",
         "65.0",
         "72.0",
         "148.0",
         null,
         null,
         "4.2",
         "56.7",
         "7.51",
         "105.0",
         "75.0",
         "164.0",
         "2.3",
         "3.0",
         "2.8",
         null,
         "0.3",
         "0.4",
         "25.0",
         "29.4",
         "3.7",
         "0.9",
         "1.7",
         "138.0",
         "37.0",
         "173.0",
         "113.0",
         "126.0",
         null,
         null,
         "6.2",
         "56.7",
         "7.47",
         "617.0",
         "2160.0",
         "1.0",
         "14.0",
         "19",
         "0"
        ],
        [
         "3",
         "132543",
         "7",
         "1",
         "9",
         "575",
         "0",
         "68.0",
         "1.0",
         "180.3",
         "84.6",
         "0",
         "0",
         "0",
         null,
         "15.0",
         "129.0",
         "79.0",
         null,
         "63.0",
         "86.67",
         "134.0",
         "19.0",
         null,
         "36.3",
         null,
         "15.0",
         "117.0",
         "79.0",
         null,
         "81.0",
         "98.67",
         "134.0",
         "22.0",
         null,
         "37.0",
         null,
         "14.0",
         "106.0",
         "57.0",
         null,
         "45.0",
         "68.33",
         "102.0",
         "6.0",
         null,
         "35.1",
         null,
         "15.0",
         "129.0",
         "88.0",
         null,
         "81.0",
         "100.7",
         "140.0",
         "24.0",
         null,
         "37.0",
         null,
         "15.0",
         "117.0",
         "74.0",
         null,
         "64.0",
         "83.67",
         "120.0",
         "16.0",
         null,
         "36.4",
         "105.0",
         "12.0",
         "15.0",
         "4.4",
         "23.0",
         "0.2",
         null,
         "0.9",
         null,
         "28.0",
         "41.3",
         "4.0",
         null,
         "2.1",
         "140.0",
         null,
         null,
         "391.0",
         null,
         null,
         null,
         "11.5",
         "84.6",
         null,
         "105.0",
         "12.0",
         "15.0",
         "4.4",
         "10.0",
         "0.2",
         null,
         "0.7",
         null,
         "28.0",
         "36.3",
         "3.8",
         null,
         "1.9",
         "137.0",
         null,
         null,
         "284.0",
         null,
         null,
         null,
         "7.9",
         "84.6",
         null,
         null,
         null,
         null,
         null,
         "9",
         "0"
        ],
        [
         "4",
         "132545",
         "17",
         "2",
         "4",
         "918",
         "0",
         "88.0",
         "0.0",
         null,
         null,
         "0",
         "0",
         "0",
         null,
         "15.0",
         "113.0",
         "93.0",
         null,
         "41.0",
         "75.33",
         "144.0",
         "24.0",
         null,
         "37.8",
         null,
         "15.0",
         "92.0",
         "68.0",
         null,
         "42.0",
         "73.0",
         "135.0",
         "16.0",
         null,
         "36.7",
         null,
         "15.0",
         "92.0",
         "65.0",
         null,
         "26.0",
         "52.33",
         "105.0",
         "13.0",
         null,
         "35.8",
         null,
         "15.0",
         "113.0",
         "94.0",
         null,
         "96.0",
         "105.7",
         "157.0",
         "27.0",
         null,
         "37.8",
         null,
         "15.0",
         "102.5",
         "73.0",
         null,
         "42.0",
         "75.33",
         "131.0",
         "19.0",
         null,
         "37.0",
         null,
         null,
         null,
         "3.3",
         "45.0",
         null,
         null,
         "1.0",
         null,
         "18.0",
         "22.6",
         "6.0",
         null,
         "1.5",
         "140.0",
         null,
         null,
         "109.0",
         null,
         null,
         null,
         "3.8",
         null,
         null,
         null,
         null,
         null,
         "3.3",
         "25.0",
         null,
         null,
         "1.0",
         null,
         "20.0",
         "30.9",
         "4.1",
         null,
         "1.6",
         "139.0",
         null,
         null,
         "97.0",
         null,
         null,
         null,
         "4.8",
         null,
         null,
         null,
         null,
         null,
         null,
         "4",
         "0"
        ]
       ],
       "shape": {
        "columns": 122,
        "rows": 5
       }
      },
      "text/html": [
       "<div>\n",
       "<style scoped>\n",
       "    .dataframe tbody tr th:only-of-type {\n",
       "        vertical-align: middle;\n",
       "    }\n",
       "\n",
       "    .dataframe tbody tr th {\n",
       "        vertical-align: top;\n",
       "    }\n",
       "\n",
       "    .dataframe thead th {\n",
       "        text-align: right;\n",
       "    }\n",
       "</style>\n",
       "<table border=\"1\" class=\"dataframe\">\n",
       "  <thead>\n",
       "    <tr style=\"text-align: right;\">\n",
       "      <th></th>\n",
       "      <th>recordid</th>\n",
       "      <th>SAPS-I</th>\n",
       "      <th>SOFA</th>\n",
       "      <th>Length_of_stay</th>\n",
       "      <th>Survival</th>\n",
       "      <th>In-hospital_death</th>\n",
       "      <th>Age</th>\n",
       "      <th>Gender</th>\n",
       "      <th>Height</th>\n",
       "      <th>Weight</th>\n",
       "      <th>...</th>\n",
       "      <th>TroponinT_last</th>\n",
       "      <th>WBC_last</th>\n",
       "      <th>Weight_last</th>\n",
       "      <th>pH_last</th>\n",
       "      <th>MechVentStartTime</th>\n",
       "      <th>MechVentDuration</th>\n",
       "      <th>MechVentLast8Hour</th>\n",
       "      <th>UrineOutputSum</th>\n",
       "      <th>duration</th>\n",
       "      <th>event</th>\n",
       "    </tr>\n",
       "  </thead>\n",
       "  <tbody>\n",
       "    <tr>\n",
       "      <th>0</th>\n",
       "      <td>132539</td>\n",
       "      <td>6</td>\n",
       "      <td>1</td>\n",
       "      <td>5</td>\n",
       "      <td>-1</td>\n",
       "      <td>0</td>\n",
       "      <td>54.0</td>\n",
       "      <td>0.0</td>\n",
       "      <td>NaN</td>\n",
       "      <td>NaN</td>\n",
       "      <td>...</td>\n",
       "      <td>NaN</td>\n",
       "      <td>9.4</td>\n",
       "      <td>NaN</td>\n",
       "      <td>NaN</td>\n",
       "      <td>NaN</td>\n",
       "      <td>NaN</td>\n",
       "      <td>NaN</td>\n",
       "      <td>NaN</td>\n",
       "      <td>5</td>\n",
       "      <td>0</td>\n",
       "    </tr>\n",
       "    <tr>\n",
       "      <th>1</th>\n",
       "      <td>132540</td>\n",
       "      <td>16</td>\n",
       "      <td>8</td>\n",
       "      <td>8</td>\n",
       "      <td>-1</td>\n",
       "      <td>0</td>\n",
       "      <td>76.0</td>\n",
       "      <td>1.0</td>\n",
       "      <td>175.3</td>\n",
       "      <td>76.0</td>\n",
       "      <td>...</td>\n",
       "      <td>NaN</td>\n",
       "      <td>13.3</td>\n",
       "      <td>81.6</td>\n",
       "      <td>7.37</td>\n",
       "      <td>71.0</td>\n",
       "      <td>360.0</td>\n",
       "      <td>0.0</td>\n",
       "      <td>5.0</td>\n",
       "      <td>8</td>\n",
       "      <td>0</td>\n",
       "    </tr>\n",
       "    <tr>\n",
       "      <th>2</th>\n",
       "      <td>132541</td>\n",
       "      <td>21</td>\n",
       "      <td>11</td>\n",
       "      <td>19</td>\n",
       "      <td>-1</td>\n",
       "      <td>0</td>\n",
       "      <td>44.0</td>\n",
       "      <td>0.0</td>\n",
       "      <td>NaN</td>\n",
       "      <td>56.7</td>\n",
       "      <td>...</td>\n",
       "      <td>NaN</td>\n",
       "      <td>6.2</td>\n",
       "      <td>56.7</td>\n",
       "      <td>7.47</td>\n",
       "      <td>617.0</td>\n",
       "      <td>2160.0</td>\n",
       "      <td>1.0</td>\n",
       "      <td>14.0</td>\n",
       "      <td>19</td>\n",
       "      <td>0</td>\n",
       "    </tr>\n",
       "    <tr>\n",
       "      <th>3</th>\n",
       "      <td>132543</td>\n",
       "      <td>7</td>\n",
       "      <td>1</td>\n",
       "      <td>9</td>\n",
       "      <td>575</td>\n",
       "      <td>0</td>\n",
       "      <td>68.0</td>\n",
       "      <td>1.0</td>\n",
       "      <td>180.3</td>\n",
       "      <td>84.6</td>\n",
       "      <td>...</td>\n",
       "      <td>NaN</td>\n",
       "      <td>7.9</td>\n",
       "      <td>84.6</td>\n",
       "      <td>NaN</td>\n",
       "      <td>NaN</td>\n",
       "      <td>NaN</td>\n",
       "      <td>NaN</td>\n",
       "      <td>NaN</td>\n",
       "      <td>9</td>\n",
       "      <td>0</td>\n",
       "    </tr>\n",
       "    <tr>\n",
       "      <th>4</th>\n",
       "      <td>132545</td>\n",
       "      <td>17</td>\n",
       "      <td>2</td>\n",
       "      <td>4</td>\n",
       "      <td>918</td>\n",
       "      <td>0</td>\n",
       "      <td>88.0</td>\n",
       "      <td>0.0</td>\n",
       "      <td>NaN</td>\n",
       "      <td>NaN</td>\n",
       "      <td>...</td>\n",
       "      <td>NaN</td>\n",
       "      <td>4.8</td>\n",
       "      <td>NaN</td>\n",
       "      <td>NaN</td>\n",
       "      <td>NaN</td>\n",
       "      <td>NaN</td>\n",
       "      <td>NaN</td>\n",
       "      <td>NaN</td>\n",
       "      <td>4</td>\n",
       "      <td>0</td>\n",
       "    </tr>\n",
       "  </tbody>\n",
       "</table>\n",
       "<p>5 rows × 122 columns</p>\n",
       "</div>"
      ],
      "text/plain": [
       "   recordid  SAPS-I  SOFA  Length_of_stay  Survival  In-hospital_death   Age  \\\n",
       "0    132539       6     1               5        -1                  0  54.0   \n",
       "1    132540      16     8               8        -1                  0  76.0   \n",
       "2    132541      21    11              19        -1                  0  44.0   \n",
       "3    132543       7     1               9       575                  0  68.0   \n",
       "4    132545      17     2               4       918                  0  88.0   \n",
       "\n",
       "   Gender  Height  Weight  ...  TroponinT_last  WBC_last  Weight_last  \\\n",
       "0     0.0     NaN     NaN  ...             NaN       9.4          NaN   \n",
       "1     1.0   175.3    76.0  ...             NaN      13.3         81.6   \n",
       "2     0.0     NaN    56.7  ...             NaN       6.2         56.7   \n",
       "3     1.0   180.3    84.6  ...             NaN       7.9         84.6   \n",
       "4     0.0     NaN     NaN  ...             NaN       4.8          NaN   \n",
       "\n",
       "   pH_last  MechVentStartTime  MechVentDuration  MechVentLast8Hour  \\\n",
       "0      NaN                NaN               NaN                NaN   \n",
       "1     7.37               71.0             360.0                0.0   \n",
       "2     7.47              617.0            2160.0                1.0   \n",
       "3      NaN                NaN               NaN                NaN   \n",
       "4      NaN                NaN               NaN                NaN   \n",
       "\n",
       "   UrineOutputSum  duration  event  \n",
       "0             NaN         5      0  \n",
       "1             5.0         8      0  \n",
       "2            14.0        19      0  \n",
       "3             NaN         9      0  \n",
       "4             NaN         4      0  \n",
       "\n",
       "[5 rows x 122 columns]"
      ]
     },
     "execution_count": 7,
     "metadata": {},
     "output_type": "execute_result"
    }
   ],
   "source": [
    "# Make duration and event explicit and clean obvious sentinels\n",
    "\n",
    "PATH = \"PhysionetChallenge2012-set-a.csv.gz\"\n",
    "ICU = pd.read_csv(PATH, compression=\"gzip\")\n",
    "\n",
    "# Treat explicit negative placeholders as missing if present\n",
    "for col in [\"Height\", \"Weight\"]:\n",
    "    if col in ICU.columns:\n",
    "        ICU.loc[ICU[col] < 0, col] = np.nan\n",
    "\n",
    "# Define survival variables for in-hospital death analysis\n",
    "ICU[\"duration\"] = ICU[\"Length_of_stay\"]              # days from ICU admission to discharge or in-hospital death\n",
    "ICU[\"event\"] = ICU[\"In-hospital_death\"].astype(int)  # 1 = died in hospital, 0 = discharged alive\n",
    "\n",
    "ICU.head()\n"
   ]
  },
  {
   "cell_type": "markdown",
   "id": "5959f105",
   "metadata": {},
   "source": [
    "### Exploratory data analysis for ICU survival dataset\n",
    "\n",
    "- Verify the event and censoring structure before modeling  \n",
    "- Understand distributions of time variables, severity scores, and demographics  \n",
    "- Spot missingness or outliers that could bias Kaplan–Meier and Cox models\n",
    "\n",
    "Checking for:\n",
    "- Cohort size, event rate, censoring rate, and quick time sanity checks  \n",
    "- Distributions of Length_of_stay and Survival including the −1 code  \n",
    "- Severity and demographic distributions and how they differ by event  \n",
    "- Missingness per variable to guide simple imputation choices\n"
   ]
  },
  {
   "cell_type": "code",
   "execution_count": 17,
   "id": "3d1c80d7",
   "metadata": {},
   "outputs": [
    {
     "data": {
      "application/vnd.microsoft.datawrangler.viewer.v0+json": {
       "columns": [
        {
         "name": "index",
         "rawType": "int64",
         "type": "integer"
        },
        {
         "name": "Metric",
         "rawType": "object",
         "type": "string"
        },
        {
         "name": "Value",
         "rawType": "object",
         "type": "string"
        },
        {
         "name": "Meaning",
         "rawType": "object",
         "type": "string"
        }
       ],
       "ref": "031ce3d8-d394-48c4-8061-16a69a67c3e6",
       "rows": [
        [
         "0",
         "Patients",
         "4000",
         "unique ICU stays"
        ],
        [
         "1",
         "Deaths (provided)",
         "554",
         "in-hospital deaths from In-hospital_death"
        ],
        [
         "2",
         "Event rate",
         "13.9%",
         "fraction who died in hospital"
        ],
        [
         "3",
         "Censoring rate",
         "86.1%",
         "fraction discharged alive"
        ],
        [
         "4",
         "LOS median [IQR]",
         "10.0 d [6.0, 17.0]",
         "hospital days until discharge or in-hospital death"
        ],
        [
         "5",
         "LOS range (clipped)",
         "-1.0 to 154.0 d",
         "range after clipping LOS to ≥ 0"
        ],
        [
         "6",
         "LOS min (raw)",
         "-1.0 d",
         "raw minimum before clipping; negative suggests data artifact"
        ],
        [
         "7",
         "Survival = −1",
         "2526",
         "no death recorded in follow-up, treated as censored"
        ],
        [
         "8",
         "Survival > LOS",
         "919",
         "survived beyond discharge, censored at discharge"
        ],
        [
         "9",
         "Deaths inferred (general)",
         "555",
         "0–LOS days counted as in-hospital death"
        ],
        [
         "10",
         "Deaths inferred (strict)",
         "528",
         "2–LOS days counted as in-hospital death"
        ]
       ],
       "shape": {
        "columns": 3,
        "rows": 11
       }
      },
      "text/html": [
       "<div>\n",
       "<style scoped>\n",
       "    .dataframe tbody tr th:only-of-type {\n",
       "        vertical-align: middle;\n",
       "    }\n",
       "\n",
       "    .dataframe tbody tr th {\n",
       "        vertical-align: top;\n",
       "    }\n",
       "\n",
       "    .dataframe thead th {\n",
       "        text-align: right;\n",
       "    }\n",
       "</style>\n",
       "<table border=\"1\" class=\"dataframe\">\n",
       "  <thead>\n",
       "    <tr style=\"text-align: right;\">\n",
       "      <th></th>\n",
       "      <th>Metric</th>\n",
       "      <th>Value</th>\n",
       "      <th>Meaning</th>\n",
       "    </tr>\n",
       "  </thead>\n",
       "  <tbody>\n",
       "    <tr>\n",
       "      <th>0</th>\n",
       "      <td>Patients</td>\n",
       "      <td>4000</td>\n",
       "      <td>unique ICU stays</td>\n",
       "    </tr>\n",
       "    <tr>\n",
       "      <th>1</th>\n",
       "      <td>Deaths (provided)</td>\n",
       "      <td>554</td>\n",
       "      <td>in-hospital deaths from In-hospital_death</td>\n",
       "    </tr>\n",
       "    <tr>\n",
       "      <th>2</th>\n",
       "      <td>Event rate</td>\n",
       "      <td>13.9%</td>\n",
       "      <td>fraction who died in hospital</td>\n",
       "    </tr>\n",
       "    <tr>\n",
       "      <th>3</th>\n",
       "      <td>Censoring rate</td>\n",
       "      <td>86.1%</td>\n",
       "      <td>fraction discharged alive</td>\n",
       "    </tr>\n",
       "    <tr>\n",
       "      <th>4</th>\n",
       "      <td>LOS median [IQR]</td>\n",
       "      <td>10.0 d [6.0, 17.0]</td>\n",
       "      <td>hospital days until discharge or in-hospital d...</td>\n",
       "    </tr>\n",
       "    <tr>\n",
       "      <th>5</th>\n",
       "      <td>LOS range (clipped)</td>\n",
       "      <td>-1.0 to 154.0 d</td>\n",
       "      <td>range after clipping LOS to ≥ 0</td>\n",
       "    </tr>\n",
       "    <tr>\n",
       "      <th>6</th>\n",
       "      <td>LOS min (raw)</td>\n",
       "      <td>-1.0 d</td>\n",
       "      <td>raw minimum before clipping; negative suggests...</td>\n",
       "    </tr>\n",
       "    <tr>\n",
       "      <th>7</th>\n",
       "      <td>Survival = −1</td>\n",
       "      <td>2526</td>\n",
       "      <td>no death recorded in follow-up, treated as cen...</td>\n",
       "    </tr>\n",
       "    <tr>\n",
       "      <th>8</th>\n",
       "      <td>Survival &gt; LOS</td>\n",
       "      <td>919</td>\n",
       "      <td>survived beyond discharge, censored at discharge</td>\n",
       "    </tr>\n",
       "    <tr>\n",
       "      <th>9</th>\n",
       "      <td>Deaths inferred (general)</td>\n",
       "      <td>555</td>\n",
       "      <td>0–LOS days counted as in-hospital death</td>\n",
       "    </tr>\n",
       "    <tr>\n",
       "      <th>10</th>\n",
       "      <td>Deaths inferred (strict)</td>\n",
       "      <td>528</td>\n",
       "      <td>2–LOS days counted as in-hospital death</td>\n",
       "    </tr>\n",
       "  </tbody>\n",
       "</table>\n",
       "</div>"
      ],
      "text/plain": [
       "                       Metric               Value  \\\n",
       "0                    Patients                4000   \n",
       "1           Deaths (provided)                 554   \n",
       "2                  Event rate               13.9%   \n",
       "3              Censoring rate               86.1%   \n",
       "4            LOS median [IQR]  10.0 d [6.0, 17.0]   \n",
       "5         LOS range (clipped)     -1.0 to 154.0 d   \n",
       "6               LOS min (raw)              -1.0 d   \n",
       "7               Survival = −1                2526   \n",
       "8              Survival > LOS                 919   \n",
       "9   Deaths inferred (general)                 555   \n",
       "10   Deaths inferred (strict)                 528   \n",
       "\n",
       "                                              Meaning  \n",
       "0                                    unique ICU stays  \n",
       "1           in-hospital deaths from In-hospital_death  \n",
       "2                       fraction who died in hospital  \n",
       "3                           fraction discharged alive  \n",
       "4   hospital days until discharge or in-hospital d...  \n",
       "5                     range after clipping LOS to ≥ 0  \n",
       "6   raw minimum before clipping; negative suggests...  \n",
       "7   no death recorded in follow-up, treated as cen...  \n",
       "8    survived beyond discharge, censored at discharge  \n",
       "9             0–LOS days counted as in-hospital death  \n",
       "10            2–LOS days counted as in-hospital death  "
      ]
     },
     "metadata": {},
     "output_type": "display_data"
    }
   ],
   "source": [
    "# Cohort briefing table with clear labels and units\n",
    "\n",
    "n_patients = len(ICU)\n",
    "events_provided = int(ICU[\"event\"].sum())\n",
    "event_rate = ICU[\"event\"].mean()\n",
    "censor_rate = 1.0 - event_rate\n",
    "\n",
    "# Length of stay (LOS) summaries\n",
    "los_median = float(ICU[\"duration\"].median())\n",
    "los_q1, los_q3 = float(ICU[\"duration\"].quantile(0.25)), float(ICU[\"duration\"].quantile(0.75))\n",
    "los_min, los_max = float(ICU[\"duration\"].min()), float(ICU[\"duration\"].max())\n",
    "\n",
    "# Raw LOS min to flag anomalies if any\n",
    "los_min_raw = float(ICU[\"Length_of_stay\"].min())\n",
    "\n",
    "# Survival code summaries\n",
    "has_surv = \"Survival\" in ICU.columns\n",
    "surv_eq_minus1 = int((ICU[\"Survival\"] == -1).sum()) if has_surv else None\n",
    "surv_gt_los = int((ICU[\"Survival\"] > ICU[\"Length_of_stay\"]).sum()) if has_surv else None\n",
    "surv_le_los_nonneg = int(((ICU[\"Survival\"] >= 0) & (ICU[\"Survival\"] <= ICU[\"Length_of_stay\"])).sum()) if has_surv else None\n",
    "\n",
    "# Also compute strict and general inferred deaths for teaching\n",
    "inferred_strict = int(((ICU[\"Survival\"] >= 2) & (ICU[\"Survival\"] <= ICU[\"Length_of_stay\"])).sum()) if has_surv else None\n",
    "inferred_general = surv_le_los_nonneg\n",
    "\n",
    "# \"Clipped\" - means LOS >= 0 because negative LOS would be nonsensical\n",
    "rows = [\n",
    "    {\"Metric\": \"Patients\", \"Value\": f\"{n_patients:d}\", \"Meaning\": \"unique ICU stays\"},\n",
    "    {\"Metric\": \"Deaths (provided)\", \"Value\": f\"{events_provided:d}\", \"Meaning\": \"in-hospital deaths from In-hospital_death\"},\n",
    "    {\"Metric\": \"Event rate\", \"Value\": f\"{event_rate:.1%}\", \"Meaning\": \"fraction who died in hospital\"},\n",
    "    {\"Metric\": \"Censoring rate\", \"Value\": f\"{censor_rate:.1%}\", \"Meaning\": \"fraction discharged alive\"},\n",
    "    {\"Metric\": \"LOS median [IQR]\", \"Value\": f\"{los_median:.1f} d [{los_q1:.1f}, {los_q3:.1f}]\",\n",
    "     \"Meaning\": \"hospital days until discharge or in-hospital death\"},\n",
    "    {\"Metric\": \"LOS range (clipped)\", \"Value\": f\"{los_min:.1f} to {los_max:.1f} d\", \"Meaning\": \"range after clipping LOS to ≥ 0\"},\n",
    "]\n",
    "\n",
    "# Add raw LOS min only if it is negative to explain anomalies\n",
    "if los_min_raw < 0:\n",
    "    rows.append({\"Metric\": \"LOS min (raw)\", \"Value\": f\"{los_min_raw:.1f} d\", \"Meaning\": \"raw minimum before clipping; negative suggests data artifact\"})\n",
    "\n",
    "if has_surv:\n",
    "    rows.extend([\n",
    "        {\"Metric\": \"Survival = −1\", \"Value\": f\"{surv_eq_minus1:d}\", \"Meaning\": \"no death recorded in follow-up, treated as censored\"},\n",
    "        {\"Metric\": \"Survival > LOS\", \"Value\": f\"{surv_gt_los:d}\", \"Meaning\": \"survived beyond discharge, censored at discharge\"},\n",
    "        {\"Metric\": \"Deaths inferred (general)\", \"Value\": f\"{inferred_general:d}\", \"Meaning\": \"0–LOS days counted as in-hospital death\"},\n",
    "        {\"Metric\": \"Deaths inferred (strict)\", \"Value\": f\"{inferred_strict:d}\", \"Meaning\": \"2–LOS days counted as in-hospital death\"},\n",
    "    ])\n",
    "\n",
    "brief = pd.DataFrame(rows, columns=[\"Metric\",\"Value\",\"Meaning\"])\n",
    "display(brief)\n"
   ]
  },
  {
   "cell_type": "code",
   "execution_count": 9,
   "id": "5aac1ecb",
   "metadata": {},
   "outputs": [
    {
     "data": {
      "image/png": "[encoded data removed]",
      "text/plain": [
       "<Figure size 1200x400 with 2 Axes>"
      ]
     },
     "metadata": {},
     "output_type": "display_data"
    }
   ],
   "source": [
    "# Visualize time scales and confirm focus windows students will use later\n",
    "fig, axes = plt.subplots(1, 2, figsize=(12,4), sharey=False)\n",
    "\n",
    "# Length_of_stay distribution\n",
    "sns.histplot(ICU[\"Length_of_stay\"], bins=40, ax=axes[0])\n",
    "axes[0].set_title(\"Length_of_stay distribution\")\n",
    "axes[0].set_xlabel(\"Days\")\n",
    "axes[0].set_ylabel(\"Count\")\n",
    "axes[0].set_xlim(left=0)\n",
    "\n",
    "# Survival distribution, keeping -1 visible\n",
    "if \"Survival\" in ICU.columns:\n",
    "    sns.histplot(ICU[\"Survival\"], bins=40, ax=axes[1])\n",
    "    axes[1].set_title(\"Survival distribution including -1\")\n",
    "    axes[1].set_xlabel(\"Days (−1 means death not observed)\")\n",
    "    axes[1].set_xlim(left=-1)\n",
    "\n",
    "plt.tight_layout()\n"
   ]
  },
  {
   "cell_type": "markdown",
   "id": "30da5106",
   "metadata": {},
   "source": [
    "- Censoring is dominant: most patients are censored because they leave the hospital alive or survive past follow-up. That’s why Kaplan–Meier is essential\n",
    "- Most events are early: the hazard is front-loaded — early ICU days carry much higher risk\n",
    "- Long tails matter: a handful of extreme stays and very long survivals exist. They won’t change the median but they inflate variance later. This explains why KM confidence intervals get wide after 30–90 days\n",
    "- When interpreting survival curves, emphasize early vs late hazards. For ICU, survival within the first 30 days is often the most actionable metric"
   ]
  },
  {
   "cell_type": "code",
   "execution_count": 10,
   "id": "9f448087",
   "metadata": {},
   "outputs": [
    {
     "data": {
      "image/png": "[encoded data removed]",
      "text/plain": [
       "<Figure size 600x400 with 1 Axes>"
      ]
     },
     "metadata": {},
     "output_type": "display_data"
    }
   ],
   "source": [
    "# Check if hospital days differ between decedents and survivors\n",
    "\n",
    "import seaborn as sns\n",
    "import matplotlib.pyplot as plt\n",
    "\n",
    "fig, ax = plt.subplots(figsize=(6,4))\n",
    "sns.boxplot(\n",
    "    data=ICU.assign(event_label=ICU[\"event\"].map({0:\"Survived to discharge\", 1:\"Died in hospital\"})),\n",
    "    x=\"event_label\",\n",
    "    y=\"Length_of_stay\",\n",
    "    ax=ax\n",
    ")\n",
    "ax.set_xlabel(\"\")\n",
    "ax.set_ylabel(\"Length_of_stay [days]\")\n",
    "ax.set_title(\"Length_of_stay by event status\")\n",
    "plt.tight_layout()\n"
   ]
  },
  {
   "cell_type": "markdown",
   "id": "7b6079a6",
   "metadata": {},
   "source": [
    "- Lenght Of Stay (LOS) is not a strong discriminator of outcome. Patients who die in the hospital don’t necessarily stay longer or shorter than those who survive to discharge\n",
    "- Simply knowing “how long a patient has been in hospital” doesn’t predict mortality well in this cohort\n",
    "- Early severity scores e.g. SAPS-I, SOFA, and physiological measures are more informative for survival modeling\n",
    "- This is why Cox and RSF need covariates beyond LOS\n",
    "\n",
    "KM can stratify by LOS after the fact, but LOS itself is not a predictor we can use at admission (it’s only known retrospectively)"
   ]
  },
  {
   "cell_type": "code",
   "execution_count": null,
   "id": "9ed61b4b",
   "metadata": {},
   "outputs": [
    {
     "data": {
      "image/png": "[encoded data removed]",
      "text/plain": [
       "<Figure size 1500x400 with 3 Axes>"
      ]
     },
     "metadata": {},
     "output_type": "display_data"
    }
   ],
   "source": [
    "# Quick clinical sense check of important covariates\n",
    "# Severity and age plots by event should show higher acuity among decedents, if not, revisit variable definitions\n",
    "\n",
    "\n",
    "import seaborn as sns\n",
    "import matplotlib.pyplot as plt\n",
    "\n",
    "plot_vars = [c for c in [\"Age\",\"SAPS-I\",\"SOFA\"] if c in ICU.columns]\n",
    "n = len(plot_vars)\n",
    "if n > 0:\n",
    "    fig, axes = plt.subplots(1, n, figsize=(5*n,4))\n",
    "    if n == 1:\n",
    "        axes = [axes]\n",
    "    for ax, col in zip(axes, plot_vars):\n",
    "        sns.violinplot(\n",
    "            data=ICU.assign(event_label=ICU[\"event\"].map({0:\"Survived\", 1:\"Died\"})),\n",
    "            x=\"event_label\", y=col, cut=0, inner=\"quartile\", ax=ax\n",
    "        )\n",
    "        ax.set_xlabel(\"\")\n",
    "        ax.set_title(f\"{col} by event\")\n",
    "    plt.tight_layout()\n",
    "else:\n",
    "    print(\"No severity or age columns found to plot\")\n"
   ]
  },
  {
   "cell_type": "markdown",
   "id": "86523dec",
   "metadata": {},
   "source": [
    "- Unlike LOS, these baseline covariates clearly separate survivors and non-survivors\n",
    "- They provide the clinical rationale for including Age, SAPS-I, and SOFA in Cox or RSF models"
   ]
  },
  {
   "cell_type": "markdown",
   "id": "30a43b44",
   "metadata": {},
   "source": [
    "# 3. KM (Kaplan–Meier) survival curve - overall\n",
    "\n",
    "- KM estimates the survival function S(t) while correctly handling right censoring  \n",
    "- The curve answers questions like what proportion of patients are alive at 7, 30, 90 days\n",
    "\n",
    "Reading the plot:  \n",
    "- Steep early drops indicate high early hazard  \n",
    "- Confidence bands widen when fewer patients remain at risk"
   ]
  },
  {
   "cell_type": "code",
   "execution_count": null,
   "id": "60b2c171",
   "metadata": {},
   "outputs": [
    {
     "data": {
      "application/vnd.microsoft.datawrangler.viewer.v0+json": {
       "columns": [
        {
         "name": "timeline",
         "rawType": "float64",
         "type": "float"
        },
        {
         "name": "All patients",
         "rawType": "float64",
         "type": "float"
        }
       ],
       "ref": "3af16367-eb39-487f-b13d-fb1948d886aa",
       "rows": [
        [
         "-1.0",
         "1.0"
        ],
        [
         "1.0",
         "1.0"
        ],
        [
         "2.0",
         "0.9949225691799957"
        ],
        [
         "3.0",
         "0.9854568620420012"
        ],
        [
         "4.0",
         "0.9736060980676863"
        ],
        [
         "5.0",
         "0.965029289587977"
        ],
        [
         "6.0",
         "0.9524692554501739"
        ],
        [
         "7.0",
         "0.9415137011002769"
        ],
        [
         "8.0",
         "0.930165752136782"
        ],
        [
         "9.0",
         "0.9180804456993182"
        ],
        [
         "10.0",
         "0.9064761230993268"
        ],
        [
         "11.0",
         "0.8981056211478387"
        ],
        [
         "12.0",
         "0.8871930376588002"
        ],
        [
         "13.0",
         "0.8711808638507873"
        ],
        [
         "14.0",
         "0.8607553636102391"
        ],
        [
         "15.0",
         "0.8514614934051451"
        ],
        [
         "16.0",
         "0.8367410490241649"
        ],
        [
         "17.0",
         "0.8251426582456125"
        ],
        [
         "18.0",
         "0.8188162632754934"
        ],
        [
         "19.0",
         "0.8139013997504301"
        ],
        [
         "20.0",
         "0.8012336736842761"
        ],
        [
         "21.0",
         "0.7955268811366677"
        ],
        [
         "22.0",
         "0.7869464679348852"
        ],
        [
         "23.0",
         "0.7829652885018245"
        ],
        [
         "24.0",
         "0.7743770038016213"
        ],
        [
         "25.0",
         "0.7634702854382178"
        ],
        [
         "26.0",
         "0.7550248176789455"
        ],
        [
         "27.0",
         "0.7460364269922911"
        ],
        [
         "28.0",
         "0.7383453298068035"
        ],
        [
         "29.0",
         "0.7217997761976875"
        ],
        [
         "30.0",
         "0.7128053864631367"
        ],
        [
         "31.0",
         "0.6987368590987327"
        ],
        [
         "32.0",
         "0.6962234171595288"
        ],
        [
         "33.0",
         "0.6907841717129701"
        ],
        [
         "34.0",
         "0.6791743537009874"
        ],
        [
         "35.0",
         "0.669870595431111"
        ],
        [
         "36.0",
         "0.6665707402812043"
        ],
        [
         "37.0",
         "0.6595909419536526"
        ],
        [
         "38.0",
         "0.6520527597598965"
        ],
        [
         "39.0",
         "0.6397498775002759"
        ],
        [
         "40.0",
         "0.6397498775002759"
        ],
        [
         "41.0",
         "0.6352126443265147"
        ],
        [
         "42.0",
         "0.6208845395672699"
        ],
        [
         "43.0",
         "0.6157105017375429"
        ],
        [
         "44.0",
         "0.5993642052312365"
        ],
        [
         "45.0",
         "0.5876119659129775"
        ],
        [
         "46.0",
         "0.5814910079347173"
        ],
        [
         "47.0",
         "0.5814910079347173"
        ],
        [
         "48.0",
         "0.5748831555718226"
        ],
        [
         "49.0",
         "0.5680393084816822"
        ]
       ],
       "shape": {
        "columns": 1,
        "rows": 84
       }
      },
      "text/html": [
       "<div>\n",
       "<style scoped>\n",
       "    .dataframe tbody tr th:only-of-type {\n",
       "        vertical-align: middle;\n",
       "    }\n",
       "\n",
       "    .dataframe tbody tr th {\n",
       "        vertical-align: top;\n",
       "    }\n",
       "\n",
       "    .dataframe thead th {\n",
       "        text-align: right;\n",
       "    }\n",
       "</style>\n",
       "<table border=\"1\" class=\"dataframe\">\n",
       "  <thead>\n",
       "    <tr style=\"text-align: right;\">\n",
       "      <th></th>\n",
       "      <th>All patients</th>\n",
       "    </tr>\n",
       "    <tr>\n",
       "      <th>timeline</th>\n",
       "      <th></th>\n",
       "    </tr>\n",
       "  </thead>\n",
       "  <tbody>\n",
       "    <tr>\n",
       "      <th>-1.0</th>\n",
       "      <td>1.000000</td>\n",
       "    </tr>\n",
       "    <tr>\n",
       "      <th>1.0</th>\n",
       "      <td>1.000000</td>\n",
       "    </tr>\n",
       "    <tr>\n",
       "      <th>2.0</th>\n",
       "      <td>0.994923</td>\n",
       "    </tr>\n",
       "    <tr>\n",
       "      <th>3.0</th>\n",
       "      <td>0.985457</td>\n",
       "    </tr>\n",
       "    <tr>\n",
       "      <th>4.0</th>\n",
       "      <td>0.973606</td>\n",
       "    </tr>\n",
       "    <tr>\n",
       "      <th>...</th>\n",
       "      <td>...</td>\n",
       "    </tr>\n",
       "    <tr>\n",
       "      <th>112.0</th>\n",
       "      <td>0.341080</td>\n",
       "    </tr>\n",
       "    <tr>\n",
       "      <th>121.0</th>\n",
       "      <td>0.341080</td>\n",
       "    </tr>\n",
       "    <tr>\n",
       "      <th>138.0</th>\n",
       "      <td>0.227387</td>\n",
       "    </tr>\n",
       "    <tr>\n",
       "      <th>146.0</th>\n",
       "      <td>0.113693</td>\n",
       "    </tr>\n",
       "    <tr>\n",
       "      <th>154.0</th>\n",
       "      <td>0.113693</td>\n",
       "    </tr>\n",
       "  </tbody>\n",
       "</table>\n",
       "<p>84 rows × 1 columns</p>\n",
       "</div>"
      ],
      "text/plain": [
       "          All patients\n",
       "timeline              \n",
       "-1.0          1.000000\n",
       " 1.0          1.000000\n",
       " 2.0          0.994923\n",
       " 3.0          0.985457\n",
       " 4.0          0.973606\n",
       "...                ...\n",
       " 112.0        0.341080\n",
       " 121.0        0.341080\n",
       " 138.0        0.227387\n",
       " 146.0        0.113693\n",
       " 154.0        0.113693\n",
       "\n",
       "[84 rows x 1 columns]"
      ]
     },
     "metadata": {},
     "output_type": "display_data"
    }
   ],
   "source": [
    "# Fit and plot overall KM with at-risk counts\n",
    "kmf = KaplanMeierFitter(label=\"All patients\")\n",
    "kmf.fit(ICU[\"duration\"], event_observed=ICU[\"event\"])\n",
    "# Displaying the survival function\n",
    "kmf.survival_function_\n"
   ]
  },
  {
   "cell_type": "code",
   "execution_count": 38,
   "id": "18ee04d0",
   "metadata": {},
   "outputs": [
    {
     "data": {
      "image/png": "[encoded data removed]",
      "text/plain": [
       "<Figure size 700x500 with 2 Axes>"
      ]
     },
     "metadata": {},
     "output_type": "display_data"
    }
   ],
   "source": [
    "fig, ax = plt.subplots(figsize=(7,5))\n",
    "\n",
    "# Survival curve\n",
    "kmf.plot_survival_function(ax=ax)\n",
    "ax.set_title(\"Kaplan–Meier survival in ICU\")\n",
    "ax.set_xlabel(\"Time [days]\")\n",
    "ax.set_ylabel(\"Survival probability\")\n",
    "\n",
    "# Add gridlines\n",
    "ax.grid(True)\n",
    "\n",
    "# Zoom in to first 90 days for clarity\n",
    "ax.set_xlim(0, 90)\n",
    "\n",
    "# Annotate specific time points (0, 30, 60 days if present)\n",
    "for t in [0, 30, 60]:\n",
    "    if t in kmf.survival_function_.index:\n",
    "        y = kmf.survival_function_.loc[t].values[0]\n",
    "        ax.annotate(f\"{y:.2f}\",\n",
    "                    xy=(t, y),\n",
    "                    xytext=(0, 10),\n",
    "                    textcoords=\"offset points\",\n",
    "                    ha='center',\n",
    "                    fontsize=9,\n",
    "                    color=\"black\")\n",
    "\n",
    "# Add risk table beneath the plot\n",
    "add_at_risk_counts(kmf, ax=ax)\n",
    "\n",
    "plt.tight_layout()\n",
    "plt.show()"
   ]
  },
  {
   "cell_type": "markdown",
   "id": "e20db8db",
   "metadata": {},
   "source": [
    "**Plor description**\n",
    "1. Early steep decline\n",
    "    - The curve drops sharply in the first 20–30 days. Meaning in-hospital mortality risk is concentrated early after ICU admission\n",
    "    - “What is the probability of *surviving in hospital* by time t among everyone who started at t = 0”\n",
    "2. Progressive decline\n",
    "    - By day 30, survival probability is around 70%, by day 90, survival probability drops to ~40%\n",
    "    - Among patients still hospitalized, mortality risk continues to accumulate\n",
    "3. Widening confidence intervals\n",
    "    - After 60–70 days, the shaded band widens. Reflecting that very few patients are still at risk — estimates are less precise\n",
    "\n",
    "**At Risk Table**\n",
    "At risk: how many patients were still in hospital at each time point\n",
    "Censored: how many patients were discharged alive by that time\n",
    "Events: how many deaths occurred by that time"
   ]
  },
  {
   "cell_type": "markdown",
   "id": "cc687c98",
   "metadata": {},
   "source": [
    "**Clinical insights**\n",
    "\n",
    "1. Mortality risk is front-loaded but persistent\n",
    "    - The curve drops most rapidly in the first 30 days → early ICU phase is highest risk\n",
    "    - After that, the slope flattens, meaning the conditional risk decreases for those who survive longer\n",
    "\n",
    "2. Most patients leave alive (censored)\n",
    "    - The table shows that by 30 days, over 3,100 patients have been discharged alive (“censored”), while only ~500 deaths have occurred\n",
    "    - This reinforces that discharge is the dominant outcome, and KM accounts for it by censoring\n",
    "\n",
    "3. Uncertainty grows with time\n",
    "    - After ~60 days, few patients remain in hospital (see “At risk” row), so the shaded CI widens\n",
    "    - These later estimates should be interpreted with caution because they rely on very small denominators\n",
    "\n",
    "4. Actionable horizons\n",
    "    - 30-day survival ≈ 71% is a clear, clinically interpretable metric often reported in critical care studies\n",
    "    - 60-day survival ≈ 49% shows how much risk accumulates for long-stay patients"
   ]
  },
  {
   "cell_type": "code",
   "execution_count": 20,
   "id": "ead29b4f",
   "metadata": {},
   "outputs": [
    {
     "name": "stdout",
     "output_type": "stream",
     "text": [
      "S(7 d) = 0.942\n",
      "S(30 d) = 0.713\n",
      "S(90 d) = 0.341\n"
     ]
    }
   ],
   "source": [
    "# Quantify survival at decision-friendly horizons\n",
    "for t in [7, 30, 90]:\n",
    "    s = float(kmf.survival_function_at_times(t).values)\n",
    "    print(f\"S({t} d) = {s:.3f}\")\n"
   ]
  },
  {
   "cell_type": "markdown",
   "id": "8cf74203",
   "metadata": {},
   "source": [
    "## Survival views to read risk from different angles\n",
    "\n",
    "What each plot tells you  \n",
    "- Kaplan–Meier survival S(t): probability of not dying in hospital by day t  \n",
    "- Nelson–Aalen cumulative hazard H(t): how quickly risk accumulates over time  \n",
    "- Cumulative incidence curves: probability by day t of death in hospital vs discharge alive\n",
    "\n",
    "How to use them together  \n",
    "- KM shows overall survival level at clinically relevant horizons such as 7, 30, 90 days  \n",
    "- Nelson–Aalen highlights when risk is concentrated by looking at where the curve is steepest  \n",
    "- Cumulative incidence separates the two outcomes so you can see which becomes more likely over time\n"
   ]
  },
  {
   "cell_type": "code",
   "execution_count": 54,
   "id": "47ef4896",
   "metadata": {},
   "outputs": [
    {
     "data": {
      "image/png": "[encoded data removed]",
      "text/plain": [
       "<Figure size 700x500 with 1 Axes>"
      ]
     },
     "metadata": {},
     "output_type": "display_data"
    }
   ],
   "source": [
    "# Nelson–Aalen cumulative hazard to show when risk accumulates fastest\n",
    "naf = NelsonAalenFitter(label=\"All patients\")\n",
    "naf.fit(ICU[\"duration\"], ICU[\"event\"])\n",
    "\n",
    "fig, ax = plt.subplots(figsize=(7,5))\n",
    "naf.plot_cumulative_hazard(ax=ax)\n",
    "ax.set_title(\"Nelson–Aalen cumulative hazard\")\n",
    "ax.set_xlabel(\"Time [days]\")\n",
    "ax.set_ylabel(\"Cumulative hazard\")\n",
    "ax.grid(True)\n",
    "ax.set_xlim(0, 90)\n",
    "plt.tight_layout()\n",
    "plt.show()\n"
   ]
  },
  {
   "cell_type": "markdown",
   "id": "8882984a",
   "metadata": {},
   "source": [
    "**Clinical Insights**\n",
    "\n",
    "1. Early linear growth\n",
    "    - From day 0 to ~30, the hazard increases almost linearly, reflecting a relatively steady risk of in-hospital death in the early weeks\n",
    "\n",
    "2. Flattening after ~30 days\n",
    "    - After day 30, the slope is less steep. That means conditional risk of death decreases once patients survive past the acute phase\n",
    "    - This aligns with the KM plot: survivors after the first month are more likely to leave alive\n",
    "\n",
    "3. Cumulative hazard reaching ~1 by 90 days\n",
    "    - A cumulative hazard of 1 at 90 days means the “average” patient experiences roughly one expected event over that time\n",
    "    - In practice, this is a population-level summary: it does not mean every patient dies, but that the risk accumulation across all patients sums to one “death equivalent”"
   ]
  },
  {
   "cell_type": "code",
   "execution_count": 53,
   "id": "32c2468f",
   "metadata": {},
   "outputs": [
    {
     "data": {
      "image/png": "[encoded data removed]",
      "text/plain": [
       "<Figure size 700x500 with 1 Axes>"
      ]
     },
     "metadata": {},
     "output_type": "display_data"
    }
   ],
   "source": [
    "# Ensure non-negative times\n",
    "time = ICU[\"duration\"].clip(lower=0).to_numpy()\n",
    "event_type = np.where(ICU[\"event\"].astype(int) == 1, 1, 2).astype(int)\n",
    "\n",
    "from sksurv.nonparametric import cumulative_incidence_competing_risks\n",
    "import matplotlib.pyplot as plt\n",
    "\n",
    "# Run CIF\n",
    "times, cif_estimates = cumulative_incidence_competing_risks(\n",
    "    event=event_type,\n",
    "    time_exit=time,\n",
    "    conf_type=None  # Only two outputs: times, estimates\n",
    ")\n",
    "\n",
    "plt.figure(figsize=(7,5))\n",
    "for ev_code, label in [(1, \"Death in hospital\"), (2, \"Discharged alive\")]:\n",
    "    plt.step(times, cif_estimates[ev_code], where=\"post\", label=label)\n",
    "\n",
    "plt.xlim(0, 90)\n",
    "plt.xlabel(\"Time [days]\")\n",
    "plt.ylabel(\"Cumulative probability\")\n",
    "plt.title(\"Cumulative incidence: death vs discharge\")\n",
    "plt.grid(True)\n",
    "plt.legend()\n",
    "plt.tight_layout()\n",
    "plt.show()\n"
   ]
  },
  {
   "cell_type": "markdown",
   "id": "7fbd1099",
   "metadata": {},
   "source": [
    "**Clinical insights**\n",
    "\n",
    "1. Early separation of outcomes\n",
    "    - Most ICU patients leave alive within the first 2–3 weeks\n",
    "    - Mortality, while significant, accumulates more slowly and levels off early\n",
    "\n",
    "2. Front-loaded risk\n",
    "    - The hazard of in-hospital death is concentrated in the first weeks\n",
    "    - Survivors beyond 30 days have a very high chance of leaving hospital alive rather than dying in-hospital\n",
    "\n",
    "3. Resource planning\n",
    "    - The steep early discharge means ICU bed turnover is high in the first two weeks\n",
    "    - Persistent ICU patients beyond 30 days are a minority and represent a resource-intensive subgroup\n",
    "\n",
    "4. Communication with families\n",
    "    - These curves give clinicians intuitive numbers:\n",
    "    - “By 30 days, about 8 out of 10 patients are discharged alive”\n",
    "    - “About 1 in 7 die in the hospital, almost always within the first month”"
   ]
  },
  {
   "cell_type": "markdown",
   "id": "82873fc7",
   "metadata": {},
   "source": []
  }
 ],
 "metadata": {
  "kernelspec": {
   "display_name": "icu-survival",
   "language": "python",
   "name": "python3"
  },
  "language_info": {
   "codemirror_mode": {
    "name": "ipython",
    "version": 3
   },
   "file_extension": ".py",
   "mimetype": "text/x-python",
   "name": "python",
   "nbconvert_exporter": "python",
   "pygments_lexer": "ipython3",
   "version": "3.11.13"
  }
 },
 "nbformat": 4,
 "nbformat_minor": 5
}
